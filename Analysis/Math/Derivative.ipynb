{
 "cells": [
  {
   "cell_type": "code",
   "execution_count": 1593,
   "metadata": {},
   "outputs": [],
   "source": [
    "import numpy as np\n",
    "import matplotlib.pyplot as plt\n",
    "import control as ctl\n",
    "import numpy as np\n",
    "import pyperclip"
   ]
  },
  {
   "cell_type": "code",
   "execution_count": 1594,
   "metadata": {},
   "outputs": [],
   "source": [
    "dt = 0.05\n",
    "s  = ctl.TransferFunction.s"
   ]
  },
  {
   "cell_type": "code",
   "execution_count": 1595,
   "metadata": {},
   "outputs": [
    {
     "data": {
      "text/latex": [
       "$$\\frac{s}{0.05 s + 1}$$"
      ],
      "text/plain": [
       "TransferFunction(array([1, 0]), array([0.05, 1.  ]))"
      ]
     },
     "execution_count": 1595,
     "metadata": {},
     "output_type": "execute_result"
    }
   ],
   "source": [
    "C = s/(dt*s + 1)\n",
    "C"
   ]
  },
  {
   "cell_type": "markdown",
   "metadata": {},
   "source": [
    "# TRANSFORMADA Z\n",
    "Primeiro vamos aplicar a transformada $Z$ na planta com o método $zoh$ (que é adequado para a planta) e aplicar também uma outra transformada $z$ no controlador, com outro método de transformação mais adequado, para depois fechar a malha. As possíveis transformadas são:\n",
    "\n",
    "- $zoh$ (zero-order hold on the inputs)\n",
    "- $foh$ (linear interpolation of inputs)\n",
    "- $tustin$ (bilinear approximation)\n",
    "- $impulse$ (impulse-variant discretization)\n",
    "- $matched$ (matched pole-zero method (for SISO systems only))"
   ]
  },
  {
   "cell_type": "code",
   "execution_count": 1596,
   "metadata": {},
   "outputs": [
    {
     "data": {
      "text/latex": [
       "$$\\frac{20 z - 20}{z - 0.3679}\\quad dt = 0.05$$"
      ],
      "text/plain": [
       "TransferFunction(array([ 20., -20.]), array([ 1.        , -0.36787944]), 0.05)"
      ]
     },
     "execution_count": 1596,
     "metadata": {},
     "output_type": "execute_result"
    }
   ],
   "source": [
    "C_z = ctl.c2d(C, dt, method='zoh')\n",
    "C_z"
   ]
  },
  {
   "cell_type": "code",
   "execution_count": 1597,
   "metadata": {},
   "outputs": [
    {
     "data": {
      "image/png": "[encoded data removed]",
      "text/plain": [
       "<Figure size 700x400 with 1 Axes>"
      ]
     },
     "metadata": {},
     "output_type": "display_data"
    }
   ],
   "source": [
    "tData = np.arange(0, 7, dt)\n",
    "plt.figure(figsize=(7, 4))\n",
    "\n",
    "time, continuous = ctl.step_response(C, T=tData)\n",
    "time, digital    = ctl.step_response(C_z, T=tData)\n",
    "plt.scatter(time, continuous, color='blue', s=20, label='tempo continuo')\n",
    "plt.plot(time, digital, color='orange', linewidth=3, label='tempo discreto')\n",
    "plt.grid(), plt.legend(), plt.title('Resposta em Degrau')\n",
    "plt.show()"
   ]
  },
  {
   "cell_type": "markdown",
   "metadata": {},
   "source": [
    "# DIGITALIZANDO O SISTEMA\n",
    "- Preparando as funções que permitem digitalizar a função de transferência em transformada $Z$\n",
    "    - **printDigital**: Passando os vetores dos coeficientes do numerador e denominador para uma string que é a própria função do sistema discretizada\n",
    "    - **compute**: aplica a função digitalizada a partir dos estados anteriores\n",
    "\n",
    "- Estados anteriores\n",
    "    - Y[0], Y[1], Y[2] ... se referem aos estados $Y_n$ (saída atual), $Y_{n-1}$ (penúltima saída), $Y_{n-2}$ (antipenúltima saída)"
   ]
  },
  {
   "cell_type": "code",
   "execution_count": 1598,
   "metadata": {},
   "outputs": [
    {
     "name": "stdout",
     "output_type": "stream",
     "text": [
      "num -> xSize=2\n",
      "den -> ySize=2\n"
     ]
    }
   ],
   "source": [
    "def getFraction(G_z):\n",
    "    num, den = ctl.tfdata(G_z)\n",
    "    num = np.squeeze(num)\n",
    "    den = np.squeeze(den)\n",
    "\n",
    "    num = num/den[0]\n",
    "    den = den/den[0]\n",
    "\n",
    "    if type(num) == np.float64:\n",
    "        num = np.array([num])\n",
    "\n",
    "    num = [float(val) for val in num]\n",
    "    den = [float(val) for val in den]\n",
    "    return (num, den) \n",
    "\n",
    "\n",
    "num, den = getFraction(C_z)\n",
    "print(f'num -> xSize={len(num)}')\n",
    "print(f'den -> ySize={len(den)}')"
   ]
  },
  {
   "cell_type": "code",
   "execution_count": 1599,
   "metadata": {},
   "outputs": [
    {
     "name": "stdout",
     "output_type": "stream",
     "text": [
      "Xn*(20.000000) + Xn1*(-20.000000) + Yn1*(0.367879);\n"
     ]
    }
   ],
   "source": [
    "def printDigital(num, den):\n",
    "    out = ''\n",
    "    \n",
    "    for i in range(0, len(num)): \n",
    "        out += f'Xn{i}*({num[i]:.6f}) + '\n",
    "\n",
    "    for i in range(1, len(den)): \n",
    "        out += f'Yn{i}*({-1*den[i]:.6f}) + '\n",
    "    \n",
    "    out = out.replace('Xn0', 'Xn')[:-3] + ';'\n",
    "    pyperclip.copy(out)\n",
    "    print(out)\n",
    "\n",
    "\n",
    "printDigital(num, den)"
   ]
  },
  {
   "cell_type": "markdown",
   "metadata": {},
   "source": [
    "# OBJETO SISTEMA"
   ]
  },
  {
   "cell_type": "code",
   "execution_count": 1600,
   "metadata": {},
   "outputs": [
    {
     "name": "stdout",
     "output_type": "stream",
     "text": [
      "[1. 0. 0.]\n",
      "[2. 1. 0.]\n",
      "[3. 2. 1.]\n",
      "[4. 3. 2.]\n"
     ]
    }
   ],
   "source": [
    "class StatesUpdater:\n",
    "    buffer  = None\n",
    "    initial = 0\n",
    "    size    = 0\n",
    "\n",
    "    def __init__(self, size, initial=0):\n",
    "        self.initial = initial\n",
    "        self.size    = size\n",
    "        self.buffer  = initial * np.ones(size)\n",
    "        \n",
    "    def update(self, value=None):\n",
    "        for i in range(self.size-1, 0, -1):\n",
    "            self.buffer[i] = self.buffer[i-1]\n",
    "        \n",
    "        self.setFirst(value)\n",
    "        return self.buffer\n",
    "    \n",
    "    def setFirst(self, value):\n",
    "        if value is not None:\n",
    "            self.buffer[0] = value\n",
    "\n",
    "    def reset(self):\n",
    "        for i in range(self.size): self.buffer[i] = self.initial\n",
    "    \n",
    "\n",
    "states = StatesUpdater(3)\n",
    "for i in range(1, 5): print(states.update(i))"
   ]
  },
  {
   "cell_type": "code",
   "execution_count": 1601,
   "metadata": {},
   "outputs": [],
   "source": [
    "class DigitalSystem:\n",
    "    def __init__(self, num, den, dt=0.05, bounds=None):\n",
    "        self.bounds = bounds if bounds is not None else (-9e12, 9e12)\n",
    "        self.num = num\n",
    "        self.den = den\n",
    "        self.dt  = dt\n",
    "        self.Xn  = StatesUpdater(size=len(num))\n",
    "        self.Yn  = StatesUpdater(size=len(den))\n",
    "\n",
    "    def compute(self):\n",
    "        out = 0.0\n",
    "        \n",
    "        for i in range(0, self.Xn.size): \n",
    "            out += self.Xn.buffer[i]*(self.num[i])\n",
    "        \n",
    "        for i in range(1, self.Yn.size):\n",
    "            out += self.Yn.buffer[i]*(-1*self.den[i])\n",
    "        \n",
    "        if out > self.bounds[1]:\n",
    "            out = self.bounds[1]\n",
    "        \n",
    "        if out < self.bounds[0]:\n",
    "            out = self.bounds[0]\n",
    "        \n",
    "        return out\n",
    "\n",
    "    def update(self, input):\n",
    "        self.Xn.update(input)\n",
    "        self.Yn.update()\n",
    "\n",
    "        output = self.compute()\n",
    "        self.Yn.setFirst(output)\n",
    "        return output\n",
    "    \n",
    "    def control(self, input, setpoint):\n",
    "        return self.update(setpoint - input)\n",
    "    \n",
    "    def reset(self):\n",
    "        self.Xn.reset(), self.Yn.reset()\n",
    "    \n",
    "\n",
    "system = DigitalSystem(num, den, dt)"
   ]
  },
  {
   "cell_type": "code",
   "execution_count": 1602,
   "metadata": {},
   "outputs": [
    {
     "data": {
      "image/png": "[encoded data removed]",
      "text/plain": [
       "<Figure size 700x400 with 1 Axes>"
      ]
     },
     "metadata": {},
     "output_type": "display_data"
    }
   ],
   "source": [
    "time    = np.arange(0, 20, dt)\n",
    "digital = [0.0] + [system.update(1) for k in range(1, len(time))]\n",
    "time, continuous = ctl.step_response(C, T=time)\n",
    "\n",
    "plt.figure(figsize=(7, 4))\n",
    "plt.scatter(time, digital, label='pontos digitais', color='orange', s=20)\n",
    "plt.plot(time, continuous, label='função contínua')\n",
    "plt.grid(), plt.legend()\n",
    "plt.show()"
   ]
  },
  {
   "cell_type": "markdown",
   "metadata": {},
   "source": [
    "# CÓDIGO DE MÁQUINA"
   ]
  },
  {
   "cell_type": "code",
   "execution_count": 1603,
   "metadata": {},
   "outputs": [],
   "source": [
    "class Derivative:\n",
    "    Xn1 = 0\n",
    "    Yn1 = 0\n",
    "\n",
    "    def __init__(self, dt=0.05):\n",
    "        self.dt = dt\n",
    "        s = ctl.TransferFunction.s\n",
    "        C   = s/(dt*s + 1)\n",
    "        C_z = ctl.c2d(C, dt, method='tustin')\n",
    "        \n",
    "        num, den = ctl.tfdata(C_z)\n",
    "        num = np.squeeze(num)\n",
    "        den = np.squeeze(den)\n",
    "\n",
    "        num = num/den[0]\n",
    "        den = den/den[0]\n",
    "\n",
    "        if type(num) == np.float64:\n",
    "            num = np.array([num])\n",
    "\n",
    "        num = [float(val) for val in num]\n",
    "        den = [float(val) for val in den]\n",
    "        out = ''\n",
    "        \n",
    "        for i in range(0, len(num)): \n",
    "            out += f'Xn{i}*({num[i]:.6f}) + '\n",
    "\n",
    "        for i in range(1, len(den)): \n",
    "            out += f'Yn{i}*({-1*den[i]:.6f}) + '\n",
    "        \n",
    "        out = out.replace('Xn0', 'Xn')[:-3]\n",
    "        print(out)\n",
    "        self.out = out\n",
    "    \n",
    "    def update(self, Xn):\n",
    "        Xn1, Yn1 = self.Xn1, self.Yn1\n",
    "        Yn = eval(self.out)\n",
    "        self.Xn1 = Xn\n",
    "        self.Yn1 = Yn\n",
    "        return Yn\n",
    "    \n",
    "    def apply(self, yData):\n",
    "        N = len(yData)\n",
    "        response = np.zeros(N)\n",
    "        self.reset()\n",
    "\n",
    "        for x in range(N):\n",
    "            response[x] = self.update(yData[x])\n",
    "\n",
    "        return response\n",
    "\n",
    "    def reset(self):\n",
    "        self.Xn1 = 0\n",
    "        self.Yn1 = 0"
   ]
  },
  {
   "cell_type": "markdown",
   "metadata": {},
   "source": [
    "# TESTE CONTÍNUO\n",
    "$f(x) = x^2$"
   ]
  },
  {
   "cell_type": "code",
   "execution_count": 1604,
   "metadata": {},
   "outputs": [],
   "source": [
    "from sympy import symbols, diff, lambdify, cos"
   ]
  },
  {
   "cell_type": "code",
   "execution_count": 1605,
   "metadata": {},
   "outputs": [],
   "source": [
    "dt = 0.015\n",
    "a  = 2\n",
    "b  = 10"
   ]
  },
  {
   "cell_type": "markdown",
   "metadata": {},
   "source": [
    "- Sympy (contínuo)"
   ]
  },
  {
   "cell_type": "code",
   "execution_count": 1606,
   "metadata": {},
   "outputs": [
    {
     "data": {
      "text/latex": [
       "$\\displaystyle \\frac{5}{x}$"
      ],
      "text/plain": [
       "5/x"
      ]
     },
     "execution_count": 1606,
     "metadata": {},
     "output_type": "execute_result"
    }
   ],
   "source": [
    "x = symbols('x')\n",
    "f = 5/x\n",
    "f"
   ]
  },
  {
   "cell_type": "code",
   "execution_count": 1607,
   "metadata": {},
   "outputs": [],
   "source": [
    "xData = np.arange(a, b, dt)\n",
    "fData = [f.subs(x, t) for t in xData]"
   ]
  },
  {
   "cell_type": "code",
   "execution_count": 1608,
   "metadata": {},
   "outputs": [
    {
     "data": {
      "text/latex": [
       "$\\displaystyle - \\frac{5}{x^{2}}$"
      ],
      "text/plain": [
       "-5/x**2"
      ]
     },
     "execution_count": 1608,
     "metadata": {},
     "output_type": "execute_result"
    }
   ],
   "source": [
    "d = diff(f, x)\n",
    "d"
   ]
  },
  {
   "cell_type": "code",
   "execution_count": 1609,
   "metadata": {},
   "outputs": [
    {
     "data": {
      "text/plain": [
       "<function _lambdifygenerated(x)>"
      ]
     },
     "execution_count": 1609,
     "metadata": {},
     "output_type": "execute_result"
    }
   ],
   "source": [
    "d = lambdify(x, d, 'numpy')\n",
    "d"
   ]
  },
  {
   "cell_type": "code",
   "execution_count": 1610,
   "metadata": {},
   "outputs": [],
   "source": [
    "ySympy = d(xData)"
   ]
  },
  {
   "cell_type": "markdown",
   "metadata": {},
   "source": [
    "- laplace (discreto)"
   ]
  },
  {
   "cell_type": "code",
   "execution_count": 1611,
   "metadata": {},
   "outputs": [
    {
     "name": "stdout",
     "output_type": "stream",
     "text": [
      "Xn*(44.444444) + Xn1*(-44.444444) + Yn1*(0.333333)\n"
     ]
    }
   ],
   "source": [
    "derivative = Derivative(dt)\n",
    "yModel = [derivative.update(x) for x in fData]"
   ]
  },
  {
   "cell_type": "markdown",
   "metadata": {},
   "source": [
    "- Comparação"
   ]
  },
  {
   "cell_type": "code",
   "execution_count": 1612,
   "metadata": {},
   "outputs": [
    {
     "data": {
      "image/png": "[encoded data removed]",
      "text/plain": [
       "<Figure size 640x480 with 1 Axes>"
      ]
     },
     "metadata": {},
     "output_type": "display_data"
    }
   ],
   "source": [
    "plt.plot(xData, ySympy, label='sympy')\n",
    "plt.plot(xData, yModel, label='laplace')\n",
    "plt.grid(), plt.legend(), plt.ylim(min(ySympy)*1.05, max(ySympy)*1.05)\n",
    "plt.show()"
   ]
  }
 ],
 "metadata": {
  "kernelspec": {
   "display_name": "Python 3",
   "language": "python",
   "name": "python3"
  },
  "language_info": {
   "codemirror_mode": {
    "name": "ipython",
    "version": 3
   },
   "file_extension": ".py",
   "mimetype": "text/x-python",
   "name": "python",
   "nbconvert_exporter": "python",
   "pygments_lexer": "ipython3",
   "version": "3.10.0"
  }
 },
 "nbformat": 4,
 "nbformat_minor": 2
}
